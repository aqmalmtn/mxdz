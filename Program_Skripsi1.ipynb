{
  "cells": [
    {
      "cell_type": "code",
      "execution_count": 17,
      "metadata": {
        "colab": {
          "base_uri": "https://localhost:8080/"
        },
        "id": "CQ9dFOn1nK58",
        "outputId": "28ac0c0c-0a9c-4205-8234-7b8655dbecc1"
      },
      "outputs": [
        {
          "output_type": "stream",
          "name": "stdout",
          "text": [
            "Drive already mounted at /content/drive; to attempt to forcibly remount, call drive.mount(\"/content/drive\", force_remount=True).\n"
          ]
        }
      ],
      "source": [
        "from google.colab import drive\n",
        "drive.mount(\"/content/drive\")"
      ]
    },
    {
      "cell_type": "code",
      "execution_count": 18,
      "metadata": {
        "id": "g07XCXDMnSjW"
      },
      "outputs": [],
      "source": [
        "import numpy as np\n",
        "import pandas as pd\n",
        "import random as rd\n",
        "import matplotlib.pyplot as plt"
      ]
    },
    {
      "cell_type": "code",
      "execution_count": 19,
      "metadata": {
        "colab": {
          "base_uri": "https://localhost:8080/"
        },
        "id": "uiJstgakn1L4",
        "outputId": "b5af2a4c-52ef-4388-e587-8b1c88945361"
      },
      "outputs": [
        {
          "output_type": "execute_result",
          "data": {
            "text/plain": [
              "list"
            ]
          },
          "metadata": {},
          "execution_count": 19
        }
      ],
      "source": [
        "jenis_bahan = ['Pokok', 'Nabati', 'Hewani', 'Sayur', 'Buah' ,'Herbal']\n",
        "bahan_makanan = []\n",
        "for bahan in jenis_bahan:\n",
        "  bahan_makanan.append(np.delete(pd.read_excel('/content/drive/MyDrive/Skrispsi/Lat5A_Manualisasi_dataBahan.xlsx', sheet_name=bahan).values, (0,1,2,8,9),1))\n",
        "#print(bahan_makanan)\n",
        "type(bahan_makanan)\n"
      ]
    },
    {
      "cell_type": "code",
      "execution_count": 20,
      "metadata": {
        "colab": {
          "base_uri": "https://localhost:8080/"
        },
        "id": "VPRE1jrFsZab",
        "outputId": "adc9d542-a422-479f-e4e4-a528e911f07a"
      },
      "outputs": [
        {
          "output_type": "stream",
          "name": "stdout",
          "text": [
            "0.62\n",
            "\n",
            "Kebutuhan Gizi\n",
            "[[   0 1488]\n",
            " [   0   43]\n",
            " [   0   49]\n",
            " [   0  217]\n",
            " [   0   46]]\n"
          ]
        }
      ],
      "source": [
        "#inisialisai Parameter\n",
        "\n",
        "#iterasi_maximal =800\n",
        "#popsize = 125\n",
        "#cr = 0.5\n",
        "#mr = 0.9\n",
        "iterasi_maximal =2\n",
        "popsize = 3\n",
        "cr = 0.6\n",
        "mr = 0.4\n",
        "presentase_porsi= [0.35, 0.3, 0.35]\n",
        "berat_asli = 100\n",
        "#kebutuhan_gizi = np.zeros((5), dtype=np.int16)\n",
        "#print (\"kebutuhan gizi\",kebutuhan_gizi)\n",
        "kebutuhan_gizi = np.array([[0,1],[0,2],[0,3],[0,4],[0,5]])\n",
        "populasi = np.zeros((popsize,18), dtype=np.int16)\n",
        "#print(\"wawa\", type(populasi))\n",
        "allFitness = np.zeros(iterasi_maximal)\n",
        "\n",
        "#tb = int(input(\"Tinggi Badan  :\"))\n",
        "tb = 141\n",
        "#bb = int(input(\"Berat Badan   :\"))\n",
        "bb = 31\n",
        "#umur = int(input(\"Umur        :\"))\n",
        "umur = 14\n",
        "#gender = input(\"laki-laki(1) jika Perempuan(2) :\")\n",
        "gender = \"1\"\n",
        "\n",
        "if gender == \"1\":\n",
        "  if 13<= umur<=15 :\n",
        "    berat_ideal = 50\n",
        "    koreksi_berat = bb/berat_ideal\n",
        "    #porsi_makan = [6.5, 1.5, 3,1.2, 3, 2, 0,5]\n",
        "    porsi_makan = [6.5, 3, 3, 3, 4, 1]\n",
        "    kalori_akg = 2400\n",
        "    protein_akg = 70\n",
        "    lemak_akg = 80\n",
        "    karbohidrat_akg = 350\n",
        "    vitc_akg = 75\n",
        "    kebutuhan_energi = koreksi_berat*kalori_akg\n",
        "    kebutuhan_protein = koreksi_berat*protein_akg\n",
        "    kebutuhan_lemak = koreksi_berat*lemak_akg\n",
        "    kebutuhan_karbohidrat = koreksi_berat*karbohidrat_akg\n",
        "    kebutuhan_vitc= koreksi_berat*vitc_akg\n",
        "    kebutuhan_gizi[:,1] = np.array([kebutuhan_energi, kebutuhan_protein, kebutuhan_lemak, kebutuhan_karbohidrat, kebutuhan_vitc])\n",
        "    #kebutuhan_gizi1 = np.int_(kebutuhan_gizi)\n",
        "    #kebutuhan_gizi1 =kebutuhan_gizi\n",
        "    #kebutuhan_gizi2 =kebutuhan_gizi[:,1]\n",
        "\n",
        "  elif 16<= umur<=18:\n",
        "    berat_ideal = 60\n",
        "    koreksi_berat = bb/berat_ideal\n",
        "    porsi_makan = [8, 3, 3, 3, 4, 1]\n",
        "    kalori_akg = 2650\n",
        "    protein_akg = 75\n",
        "    lemak_akg = 85\n",
        "    karbohidrat_akg = 400\n",
        "    vitc_akg = 90\n",
        "    kebutuhan_energi = koreksi_berat*kalori_akg\n",
        "    kebutuhan_protein = koreksi_berat*protein_akg\n",
        "    kebutuhan_lemak = koreksi_berat*lemak_akg\n",
        "    kebutuhan_karbohidrat = koreksi_berat*karbohidrat_akg\n",
        "    kebutuhan_vitc= koreksi_berat*vitc_akg\n",
        "    kebutuhan_gizi[:,1] = np.array([kebutuhan_energi, kebutuhan_protein, kebutuhan_lemak, kebutuhan_karbohidrat, kebutuhan_vitc])\n",
        "    kebutuhan_gizi1 = kebutuhan_gizi[:,1]\n",
        "  else:\n",
        "    print(\"Anda Salah Memasukkan Umur\")\n",
        "elif gender == \"2\":\n",
        "  if 13<= umur<=15:\n",
        "    berat_ideal = 48\n",
        "    koreksi_berat = bb/berat_ideal\n",
        "    porsi_makan = [4.5, 3, 3, 3, 4, 1]\n",
        "    kalori_akg = 2050\n",
        "    protein_akg = 65\n",
        "    lemak_akg = 70\n",
        "    karbohidrat_akg = 300\n",
        "    vitc_akg = 65\n",
        "    kebutuhan_energi = koreksi_berat*kalori_akg\n",
        "    kebutuhan_protein = koreksi_berat*protein_akg\n",
        "    kebutuhan_lemak = koreksi_berat*lemak_akg\n",
        "    kebutuhan_karbohidrat = koreksi_berat*karbohidrat_akg\n",
        "    kebutuhan_vitc= koreksi_berat*vitc_akg\n",
        "    kebutuhan_gizi[:,1] = np.array([kebutuhan_energi, kebutuhan_protein, kebutuhan_lemak, kebutuhan_karbohidrat, kebutuhan_vitc])\n",
        "    kebutuhan_gizi1 = kebutuhan_gizi[:,1]\n",
        "  elif 16<= umur<=18:\n",
        "    berat_ideal = 52\n",
        "    koreksi_berat = bb/berat_ideal\n",
        "    porsi_makan = [5, 3, 3, 3, 4, 1]\n",
        "    kalori_akg = 2100\n",
        "    protein_akg = 65\n",
        "    lemak_akg = 70\n",
        "    karbohidrat_akg = 300\n",
        "    vitc_akg = 75\n",
        "    kebutuhan_energi = koreksi_berat*kalori_akg\n",
        "    kebutuhan_protein = koreksi_berat*protein_akg\n",
        "    kebutuhan_lemak = koreksi_berat*lemak_akg\n",
        "    kebutuhan_karbohidrat = koreksi_berat*karbohidrat_akg\n",
        "    kebutuhan_vitc= koreksi_berat*vitc_akg\n",
        "    kebutuhan_gizi[:,1] = np.array([kebutuhan_energi, kebutuhan_protein, kebutuhan_lemak, kebutuhan_karbohidrat, kebutuhan_vitc])\n",
        "    kebutuhan_gizi1 = kebutuhan_gizi[:,1]\n",
        "  else:\n",
        "    print(\"Anda Salah Memasukkan Umur\")\n",
        "else:\n",
        "  print(\"Anda Salah Memasukkan Kode Gender\")\n",
        "\n",
        "print(koreksi_berat)\n",
        "print(\"\")\n",
        "print(\"Kebutuhan Gizi\")\n",
        "print(kebutuhan_gizi)\n",
        "#type(kebutuhan_gizi1)"
      ]
    },
    {
      "cell_type": "code",
      "execution_count": 21,
      "metadata": {
        "colab": {
          "base_uri": "https://localhost:8080/"
        },
        "id": "SEGnGCzryHRl",
        "outputId": "9fe097a6-0e70-49cf-8073-1b6650d1ff9f"
      },
      "outputs": [
        {
          "output_type": "stream",
          "name": "stdout",
          "text": [
            "pagi   : [227.49999999999997, 105.0, 105.0, 105.0, 140.0, 35.0]\n",
            "siang  : [195.0, 90.0, 90.0, 90.0, 120.0, 30.0]\n",
            "malam  : [227.49999999999997, 105.0, 105.0, 105.0, 140.0, 35.0]\n"
          ]
        },
        {
          "output_type": "execute_result",
          "data": {
            "text/plain": [
              "list"
            ]
          },
          "metadata": {},
          "execution_count": 21
        }
      ],
      "source": [
        "#Menghitung Kebutuhan Berat\n",
        "\n",
        "def hitung_berat(berat_asli, presentase_porsi, porsi_makan):\n",
        "  kebutuhan_berat = []\n",
        "  #for i in range(len(presentase_porsi)):\n",
        "  for i in range(3):\n",
        "    waktu = []\n",
        "    #for j in range(len(porsi_makan)):\n",
        "    for j in range(6):\n",
        "      waktu.append((berat_asli * porsi_makan[j])* presentase_porsi[i])\n",
        "    kebutuhan_berat.append(waktu)\n",
        "  return kebutuhan_berat\n",
        "kebutuhan_berat = hitung_berat(berat_asli, presentase_porsi, porsi_makan)\n",
        "pagi, siang, malam = kebutuhan_berat\n",
        "print(\"pagi   :\", pagi)\n",
        "print(\"siang  :\", siang)\n",
        "print(\"malam  :\", malam)\n",
        "\n",
        "type(pagi)"
      ]
    },
    {
      "cell_type": "code",
      "execution_count": 22,
      "metadata": {
        "colab": {
          "base_uri": "https://localhost:8080/"
        },
        "id": "qyaoI0RA15DG",
        "outputId": "8dd92b3c-53ae-41fa-adf2-854e653e7a30"
      },
      "outputs": [
        {
          "output_type": "stream",
          "name": "stdout",
          "text": [
            "[[259.34999999999997, 1.82, 1.1375, 60.74249999999999, 50.05, 2957.5], [279.825, 4.095, 1.5924999999999998, 63.4725, 50.05, 2730.0], [819.0, 10.6925, 0.2275, 186.77749999999997, 0.0, 2047.5], [1041.95, 15.6975, 32.76, 170.8525, 0.0, 5232.5], [825.8249999999999, 19.792499999999997, 0.91, 179.0425, 0.0, 3526.25], [780.3249999999999, 0.6825, 0.0, 193.375, 0.0, 3981.25], [564.1999999999999, 18.2, 2.73, 113.75, 0.0, 4550.0], [771.225, 22.75, 3.8674999999999997, 173.58249999999998, 0.0, 4550.0], [245.7, 3.1849999999999996, 0.91, 56.875, 9.1, 3640.0], [812.175, 19.11, 3.8674999999999997, 175.40249999999997, 0.0, 2957.5], [823.55, 1.1375, 0.6825, 197.69750000000002, 0.0, 5232.5], [195.65, 1.365, 7.507499999999999, 31.849999999999998, 0.0, 5232.5], [825.8249999999999, 19.792499999999997, 0.91, 179.0425, 0.0, 3867.5], [819.0, 15.469999999999999, 1.5924999999999998, 179.4975, 0.0, 2786.875], [784.875, 20.702499999999997, 4.55, 174.0375, 0.0, 3367.0], [809.9, 15.924999999999999, 1.5924999999999998, 177.45, 0.455, 5005.0], [823.55, 15.2425, 1.5924999999999998, 180.63500000000002, 6.824999999999999, 4095.0], [832.65, 22.295, 16.607499999999998, 157.2025, 6.824999999999999, 864.5], [188.825, 4.55, 0.2275, 43.4525, 38.675, 3640.0], [332.15, 2.73, 0.6825, 78.94250000000001, 68.25, 398.125], [771.225, 22.75, 3.8674999999999997, 173.58249999999998, 0.0, 6198.2375], [784.875, 19.3375, 5.005, 177.45, 0.0, 10010.0], [222.95, 4.3225, 0.455, 53.9175, 9.1, 2275.0], [564.1999999999999, 18.2, 2.73, 113.75, 0.0, 6370.0], [393.575, 1.1375, 0.2275, 96.6875, 0.0, 5687.5], [828.1, 15.924999999999999, 1.1375, 182.0, 0.0, 2388.75], [825.8249999999999, 2.5025, 1.1375, 200.655, 0.0, 5232.5], [789.425, 0.6825, 0.2275, 194.73999999999998, 0.0, 15242.5], [803.0749999999999, 1.5924999999999998, 0.455, 192.6925, 0.0, 4527.249999999999], [830.375, 20.2475, 2.9575, 175.8575, 0.0, 2252.25]]\n"
          ]
        },
        {
          "output_type": "execute_result",
          "data": {
            "text/plain": [
              "list"
            ]
          },
          "metadata": {},
          "execution_count": 22
        }
      ],
      "source": [
        "def kandungan_gizi(berat_asli, kebutuhan_berat):\n",
        "  kandungan_gizi_sesuai_berat = []\n",
        "  #bahan1 = bahan_makanan[0]\n",
        "  for a in range(len(kebutuhan_berat)):\n",
        "    cobaa = []\n",
        "    for b in range(len(kebutuhan_berat[0])):\n",
        "      cobab = []\n",
        "      for c in range(len(bahan_makanan[b])):\n",
        "        cobac = []\n",
        "        for d in range(len(bahan_makanan[0][0])):\n",
        "          cobac.append((kebutuhan_berat[a][b]/berat_asli)* bahan_makanan[b][c][d])\n",
        "        cobab.append(cobac)\n",
        "      cobaa.append(cobab)\n",
        "    kandungan_gizi_sesuai_berat.append(cobaa)\n",
        "  return kandungan_gizi_sesuai_berat\n",
        "\n",
        "kandungan_gizi_sesuai_berat = kandungan_gizi(berat_asli,kebutuhan_berat)\n",
        "Kpagi, Ksiang, Kmalam = kandungan_gizi_sesuai_berat\n",
        "\n",
        "kandunganpokokpagi,kandungannabatipagi,kandunganhewanipagi,kandungansayurpagi,kandunganbuahpagi,kandunganpelengkappagi=Kpagi\n",
        "kandungannabatipagi\n",
        "print(kandunganpokokpagi)\n",
        "type(kandunganpokokpagi)"
      ]
    },
    {
      "cell_type": "code",
      "execution_count": 23,
      "metadata": {
        "id": "JEmKLO6a0CV6"
      },
      "outputs": [],
      "source": [
        "##Algoritma Genetika\n",
        "\n",
        "for a in range(popsize):\n",
        "  j=0\n",
        "  for b in range(len(presentase_porsi)):\n",
        "    for c in range(len(bahan_makanan)):\n",
        "      populasi[a,j] = rd.randrange(0, len(bahan_makanan[c])-1)\n",
        "      #print(\"bahan\", len(bahan_makanan[c]-2))\n",
        "      j+=1\n",
        "      \n",
        "##print(len(bahan_makanan))\n",
        "#\n",
        "populasi = np.array([[5, 8 ,8, 3, 17, 4, 2, 3, 4, 9, 12, 2, 20, 16, 36, 34, 20, 3], \n",
        "                     [4, 6, 5, 16, 20, 1, 1, 6, 5, 4, 13, 2, 21, 15, 35, 22, 4, 1], \n",
        "                     [7, 2, 21, 11,3, 3, 5, 17, 8, 14, 11, 1, 21, 3, 11, 11, 13, 3]])\n",
        "\n",
        "#print(populasi)"
      ]
    },
    {
      "cell_type": "code",
      "execution_count": 24,
      "metadata": {
        "colab": {
          "base_uri": "https://localhost:8080/"
        },
        "id": "cnm_j6n-unU3",
        "outputId": "9d67a631-fcdb-4524-bf5b-e210c48bc11f"
      },
      "outputs": [
        {
          "output_type": "stream",
          "name": "stdout",
          "text": [
            "inisialisasi [[ 5  8  8  3 17  4  2  3  4  9 12  2 20 16 36 34 20  3]\n",
            " [ 4  6  5 16 20  1  1  6  5  4 13  2 21 15 35 22  4  1]\n",
            " [ 7  2 21 11  3  3  5 17  8 14 11  1 21  3 11 11 13  3]]\n"
          ]
        }
      ],
      "source": [
        "#GENETIC ALGORITHM\n",
        "#TotalPaket = np.zeros((populasi.shape[0], 4))\n",
        "#print(\"len ds\", len(dataset))\n",
        "#for i in range(popsize):\n",
        "#        j = 0\n",
        "#        for n in range(3):\n",
        "#            \n",
        "#            for m in range(len(bahan_makanan)):\n",
        "#                # TotalPaket[i] += dataset[m][populasi[i, j]]\n",
        "#                populasi[i, j] = rd.randrange(0, len(bahan_makanan[m]) - 1)\n",
        "#                #print(n, m, len(bahanMakanan[m]) - 1, populasi[i, j])\n",
        "#                j += 1\n",
        "\n",
        "#populasi = np.array([[5, 8 ,8, 3, 17, 4, 2, 3, 4, 9, 12, 2, 20, 16, 36, 34, 20, 3], \n",
        "#                     [4, 6, 5, 16, 20, 1, 1, 6, 5, 4, 13, 2, 21, 15, 35, 22, 4, 1], \n",
        "#                     [7, 2, 21, 11,3, 3, 5, 17, 8, 14, 11, 1, 21, 3, 11, 11, 13, 3]])\n",
        "\n",
        "#populasi = np.array([[16, 1, 30, 35, 20, 5, 3, 12, 0, 35, 19, 6, 9, 12, 7, 33, 22, 8], \n",
        "#                     [13, 5, 4, 5, 20, 10, 1, 5, 27, 25, 8, 0 ,15 ,15 ,5 ,0 ,5 ,11], \n",
        "#                     [12, 7, 11 ,13 ,19 ,2 ,19 ,11 ,13 ,34 ,12 ,4 ,2 ,4 ,13 ,11 ,2 ,9]])\n",
        "print(\"inisialisasi\", populasi)\n",
        "\n"
      ]
    },
    {
      "cell_type": "code",
      "execution_count": 25,
      "metadata": {
        "id": "1MtpS2qx2koX"
      },
      "outputs": [],
      "source": [
        "def two_cut_points(P1,P2):\n",
        "  C1 = P1.copy()\n",
        "  C2 = P2.copy()\n",
        "  #cutpoint1 = np.int32(rd.uniform(0,len(C1)-1))\n",
        "  #cutpoint2 = np.int32(rd.uniform(0,len(C1)-1))\n",
        "  #cutpoint1 = np.random.randint(0,C1.shape[0]-1)\n",
        "  #cutpoint2 = np.random.randint(cutpoint1+1, C1.shape[0])\n",
        "  cutpoint1 = 5\n",
        "  cutpoint2 = 11\n",
        "  #cutpoint = math.floor(len(P1)/9)\n",
        "  C1[cutpoint1:cutpoint2] = P2[cutpoint1:cutpoint2]\n",
        "  C2[cutpoint1:cutpoint2] = P1[cutpoint1:cutpoint2]\n",
        "  #C1[cutpoint:],C2[cutpoint:] = P2[cutpoint:],P1[cutpoint:]\n",
        "  return C1,C2\n"
      ]
    },
    {
      "cell_type": "code",
      "source": [
        ""
      ],
      "metadata": {
        "id": "tRKa84RuK1dE"
      },
      "execution_count": 25,
      "outputs": []
    },
    {
      "cell_type": "code",
      "execution_count": 26,
      "metadata": {
        "id": "55RuW7YBSssL"
      },
      "outputs": [],
      "source": [
        "def scrambler_mutasi(c3):\n",
        "  a = c3.copy()\n",
        "  #b = np.random.randint(0,a.shape[0]-1)\n",
        "  #c = np.random.randint(b+1, a.shape[0])\n",
        "  b = 0\n",
        "  c = 7\n",
        "  #d = np.random.choice(np.arange(b,c+1), c+1-b, replace = False)\n",
        "  a[b:c+1]=a[b:c+1][::-1]\n",
        "  #a[b:c+1]=a[d]\n",
        "  m=0\n",
        "  for i in range(len(a)):\n",
        "    if a[i]>(len(bahan_makanan[m])-1):\n",
        "      a[i] = len(bahan_makanan[m])-1\n",
        "    m+=1\n",
        "    if m == len(bahan_makanan):\n",
        "      m=0\n",
        "      a[a<0]=0\n",
        "  return a"
      ]
    },
    {
      "cell_type": "code",
      "source": [
        "#for iterasi in range(1):           \n",
        "#\n",
        "#  for m in range(np.round(mr * popsize).astype(np.int8)):\n",
        "#          #idx = np.random.randint(0, popsize)\n",
        "#          #offspring = mutasi(populasi[idx])\n",
        "#          #populasi = np.vstack((populasi, offspring,pop))\n",
        "#          #c3 = scrambler_mutasi(populasi[(np.int32(rd.uniform(0,len(populasi))))])\n",
        "#          c3 = scrambler_mutasi(populasi[2])\n",
        "#          c33 = c3\n",
        "#  populasi1 =  c33  \n",
        "#  print(populasi1)"
      ],
      "metadata": {
        "id": "8SV9FPUhIYbe"
      },
      "execution_count": 27,
      "outputs": []
    },
    {
      "cell_type": "code",
      "execution_count": 28,
      "metadata": {
        "id": "VbHuUnBypsP6"
      },
      "outputs": [],
      "source": [
        "def calculateFitness(populasi):\n",
        "    TotalPaket = np.zeros((len(populasi), len(bahan_makanan[0][0])))\n",
        "                \n",
        "    for i in range(len(populasi)):# looping untuk setiap populasi\n",
        "        j = 0\n",
        "        for n in range(3):#     pagi, siang, malam\n",
        "            for m in range(len(bahan_makanan)):   #   looping untuk setiap jenis bahan (nabati, pokok, ...)\n",
        "#                 print(i, n, m, j, \"idx\", populasi[i, j], \"max\", len(bahanMakanan[m]))\n",
        "                TotalPaket[i] = TotalPaket[i] + (bahan_makanan[m][populasi[i, j]] * kebutuhan_berat[n][m] / 100)\n",
        "                j += 1\n",
        "    #print(\"aw\", TotalPaket[:,:-1])\n",
        "    #print (\"ab\", kebutuhan_gizi[:,1])\n",
        "    Penalti = np.abs(TotalPaket[:, :-1] - kebutuhan_gizi[:, 1])\n",
        "\n",
        "\n",
        "    #print(\"kebutuhan gizi\", kebutuhan_gizi[:,0])\n",
        "    totalPN = (1000 / np.sum(Penalti, axis=1))\n",
        "    totalHR = (10000 / TotalPaket[:, -1])\n",
        "    #print(\"pn PN\", totalPN)\n",
        "    #print(\"pn hr\",totalHR)\n",
        "    Fitness =  totalPN + totalHR  # 1000 / (sumPinalti + harga)\n",
        "    print(\"fitness\", np.round(Fitness,3))\n",
        "    bestFit = np.argmax(Fitness)\n",
        "    print(\"Kebutuhan Gizi\")\n",
        "    print(kebutuhan_gizi)\n",
        "    print(\"makanan\",np.round(TotalPaket[bestFit],2))\n",
        "    print(\"minum\",np.round(Penalti[bestFit],2))\n",
        "    #print(\"makanan\",Penalti[bestFit]+kebutuhan_gizi[:,1])\n",
        "    print(\"Penalti a : \", np.round(Penalti[bestFit]*100/kebutuhan_gizi[:,1],2))\n",
        "    #print(\"Penalti : \", np.sum(Penalti, axis=1)[bestFit])\n",
        "    print(\"Harga : \", TotalPaket[bestFit, -1])\n",
        "    return Fitness"
      ]
    },
    {
      "cell_type": "code",
      "execution_count": 29,
      "metadata": {
        "id": "FYAFmHoCuEmi"
      },
      "outputs": [],
      "source": [
        "#def calculateFitness(populasi):\n",
        "#    TotalPaket = np.zeros((len(populasi), len(bahan_makanan[0][0])))\n",
        "#                \n",
        "#    for i in range(len(populasi)):# looping untuk setiap populasi\n",
        "#        j = 0\n",
        "#        for n in range(3):#     pagi, siang, malam\n",
        "#            for m in range(len(bahan_makanan)):   #   looping untuk setiap jenis bahan (nabati, pokok, ...)\n",
        "##                 print(i, n, m, j, \"idx\", populasi[i, j], \"max\", len(bahanMakanan[m]))\n",
        "#                TotalPaket[i] = TotalPaket[i] + (bahan_makanan[m][populasi[i, j]] * kebutuhan_berat[n][m] / 100)\n",
        "#                j += 1\n",
        "#    #print(\"aw\", TotalPaket[:,:-1])\n",
        "#    #print (\"ab\", kebutuhan_gizi[:,1])\n",
        "#    Penalti = np.abs(TotalPaket[:, :-1] - kebutuhan_gizi[:, 1])\n",
        "#    penalti2 = 1000/TotalPaket\n",
        "#\n",
        "#\n",
        "#    #print(\"kebutuhan gizi\", kebutuhan_gizi[:,0])\n",
        "#    totalPN = (1000 / np.sum(penalti2, axis=1))\n",
        "#    totalHR = (10000 / TotalPaket[:, -1])\n",
        "#    #print(\"pn PN\", totalPN)\n",
        "#    #print(\"pn hr\",totalHR)\n",
        "#    Fitness =  totalPN + totalHR  # 1000 / (sumPinalti + harga)\n",
        "#    #print(\"fitness\", Fitness)\n",
        "#    bestFit = np.argmax(Fitness)\n",
        "#    print(\"Kebutuhan Gizi\")\n",
        "#    print(kebutuhan_gizi)\n",
        "#    print(\"makanan\",TotalPaket[bestFit])\n",
        "#    print(\"minum\",Penalti[bestFit])\n",
        "#    #print(\"makanan\",Penalti[bestFit]+kebutuhan_gizi[:,1])\n",
        "#    print(\"Penalti a : \", Penalti[bestFit]*100/kebutuhan_gizi[:,1])\n",
        "#    #print(\"Penalti : \", np.sum(Penalti, axis=1)[bestFit])\n",
        "#    print(\"Harga : \", TotalPaket[bestFit, -1])\n",
        "#    return Fitness"
      ]
    },
    {
      "cell_type": "code",
      "execution_count": 30,
      "metadata": {
        "colab": {
          "base_uri": "https://localhost:8080/",
          "height": 962
        },
        "id": "qtThVwAIrKMK",
        "outputId": "9678023a-1bbd-42da-f812-b5cfb87ad26e"
      },
      "outputs": [
        {
          "output_type": "stream",
          "name": "stdout",
          "text": [
            "fitness [0.418 0.502 0.445 0.453 0.477 0.427]\n",
            "Kebutuhan Gizi\n",
            "[[   0 1488]\n",
            " [   0   43]\n",
            " [   0   49]\n",
            " [   0  217]\n",
            " [   0   46]]\n",
            "makanan [ 3498.8    140.58    83.74   596.61   242.55 74381.25]\n",
            "minum [2010.8    97.58   34.74  379.61  196.55]\n",
            "Penalti a :  [135.13 226.93  70.89 174.93 427.28]\n",
            "Harga :  74381.25\n",
            "\n",
            "Iterasi ke- 1 \n",
            "Populasi terbaik : \n",
            " [ 4  6  5 16 20  1  1  6  5  4 13  2 21 15 35 22  4  1] \n",
            "Fitness : \n",
            " 0.5021874953178396\n",
            "0\n",
            "fitness [0.502 0.477 0.453 0.477 0.502 0.565]\n",
            "Kebutuhan Gizi\n",
            "[[   0 1488]\n",
            " [   0   43]\n",
            " [   0   49]\n",
            " [   0  217]\n",
            " [   0   46]]\n",
            "makanan [3.229570e+03 1.479900e+02 5.313000e+01 5.719100e+02 7.454000e+01\n",
            " 8.490974e+04]\n",
            "minum [1741.57  104.99    4.13  354.91   28.54]\n",
            "Penalti a :  [117.04 244.16   8.43 163.55  62.04]\n",
            "Harga :  84909.7375\n",
            "\n",
            "Iterasi ke- 2 \n",
            "Populasi terbaik : \n",
            " [ 6  1  1 17  3  4  8  5  5  4 13  2 20 16 36 34 20  3] \n",
            "Fitness : \n",
            " 0.5653711453172211\n",
            "1\n"
          ]
        },
        {
          "output_type": "display_data",
          "data": {
            "text/plain": [
              "<Figure size 432x288 with 1 Axes>"
            ],
            "image/png": "[encoded data removed]"
          },
          "metadata": {
            "needs_background": "light"
          }
        }
      ],
      "source": [
        "for iterasi in range(iterasi_maximal):\n",
        "  for c in range(np.round(cr * popsize/2).astype(np.int8)):\n",
        "          #idx = np.random.choice(range(popsize), 2, replace=False)\n",
        "          offspring1, offspring2 = two_cut_points(populasi[0], populasi[1])\n",
        "          #offspring1, offspring2 = two_cut_points(populasi[np.int32(rd.uniform(0,len(populasi)))], populasi[np.int32(rd.uniform(0,len(populasi)))])\n",
        "          pop = np.vstack((offspring1,offspring2))\n",
        "            \n",
        "\n",
        "  for m in range(np.round(mr * popsize).astype(np.int8)):\n",
        "          #idx = np.random.randint(0, popsize)\n",
        "          #offspring = mutasi(populasi[idx])\n",
        "          #populasi = np.vstack((populasi, offspring,pop))\n",
        "          #c3 = scrambler_mutasi(populasi[(np.int32(rd.uniform(0,len(populasi))))])\n",
        "          c3 = scrambler_mutasi(populasi[2])\n",
        "          c33 = c3\n",
        "  populasi = np.vstack((populasi, pop,c33))\n",
        "  #print(\"\\npopulasi\\n\", populasi, \"\\n len: \", len(populasi))\n",
        "  fitness = calculateFitness(populasi)\n",
        "  #print(\"fitness\", fitness, \"\\n len : \", len(fitness))\n",
        "  populasi = populasi[fitness.argsort()[::-1]][:popsize]\n",
        "  #print(\"Populasi terbaik \",populasi)\n",
        "      # print(\"\\npopulasi after\\n\", populasi)\n",
        "  bestPopulation = populasi[0]\n",
        "  bestFitness = np.amax(fitness)\n",
        "  allFitness[iterasi] = bestFitness\n",
        "  print(\"\\nIterasi ke-\", iterasi+1, \"\\nPopulasi terbaik : \\n\", bestPopulation ,\"\\nFitness : \\n\", bestFitness)\n",
        "  print(np.argmax(allFitness))\n",
        "plt.plot(range(iterasi_maximal), allFitness, 'b-', label='line 1', linewidth=2)\n",
        "plt.plot(range(iterasi_maximal), allFitness, 'or', label='line 2')\n",
        "plt.ylabel(\"Fitness\")\n",
        "plt.xlabel(\"Generasi\")\n",
        "plt.show()"
      ]
    },
    {
      "cell_type": "code",
      "execution_count": 30,
      "metadata": {
        "id": "mvzt3NgWtZBi"
      },
      "outputs": [],
      "source": [
        ""
      ]
    }
  ],
  "metadata": {
    "colab": {
      "collapsed_sections": [],
      "name": "Program_Skripsi.ipynb",
      "provenance": []
    },
    "kernelspec": {
      "display_name": "Python 3",
      "name": "python3"
    },
    "language_info": {
      "name": "python"
    }
  },
  "nbformat": 4,
  "nbformat_minor": 0
}